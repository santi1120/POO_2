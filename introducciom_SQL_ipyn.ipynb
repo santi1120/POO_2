{
  "nbformat": 4,
  "nbformat_minor": 0,
  "metadata": {
    "colab": {
      "provenance": []
    },
    "kernelspec": {
      "name": "python3",
      "display_name": "Python 3"
    },
    "language_info": {
      "name": "python"
    }
  },
  "cells": [
    {
      "cell_type": "markdown",
      "source": [
        "#Introduccion\n",
        "Que es SQL?\n",
        "El lenguaje de consulta estructurada (SQL) es un lenguaje de programación para almacenar y procesar información en una base de datos relacional.\n",
        "\n",
        "Para que sirve y como imaginas que lo puedes usar en tu carrera?\n",
        "El lenguaje de consulta estructurada (SQL) es un lenguaje de consulta popular que se usa con frecuencia en todos los tipos de aplicaciones. Los analistas y desarrolladores de datos aprenden y usan SQL porque se integra bien con los diferentes lenguajes de programación\n",
        "\n",
        "que librerias hay para trabajar SQL en google colab?\n",
        "\n",
        "\n",
        "1.   sqlite\n",
        "2.   Elemento de lista\n",
        "\n",
        "\n",
        "[texto del vínculo](https://aws.amazon.com/es/what-is/sql/#:~:text=es%20importante%20SQL%3F-,El%20lenguaje%20de%20consulta%20estructurada%20(SQL)%20es%20un%20lenguaje%20de,los%20diferentes%20lenguajes%20de%20programaci%C3%B3n.)\n"
      ],
      "metadata": {
        "id": "WrqZeL_u41xi"
      }
    },
    {
      "cell_type": "code",
      "source": [
        "import sqlite3\n"
      ],
      "metadata": {
        "id": "U4xZ8lhI8xuH"
      },
      "execution_count": 1,
      "outputs": []
    },
    {
      "cell_type": "markdown",
      "source": [
        "MySQL necesita conexiones e instalaciones; el benchmark es el mejor de todos los quieres. La ventajade trabajar con sqlite es que podemos creae bases de datospor default, mientras que en MySQL es necesario crear la base de datos"
      ],
      "metadata": {
        "id": "LRAn8Pus9F1W"
      }
    },
    {
      "cell_type": "markdown",
      "source": [
        "**Vamos a crear una base de datos**\n",
        "Nuestra base de datos consistira de libros"
      ],
      "metadata": {
        "id": "Xz3XTLUP-leN"
      }
    },
    {
      "cell_type": "code",
      "source": [
        "# Para crear a la base de datos, es necesario conectar con el servidor de SQL.\n",
        "\n",
        "con = sqlite3.connect(\"libros_db.sqlite\")"
      ],
      "metadata": {
        "id": "nFUnEB1F-8bb"
      },
      "execution_count": 2,
      "outputs": []
    },
    {
      "cell_type": "markdown",
      "source": [
        "Ahora, vamos a diseñar nuestra **tabla**:"
      ],
      "metadata": {
        "id": "mD00TAug_lMj"
      }
    },
    {
      "cell_type": "code",
      "source": [
        "#creamos un cursor\n",
        "cursor = con.cursor()\n",
        "# Aqui vamos a ejecutar los datos necesarios para crear la tabla\n",
        "\n",
        "cursor.execute('''\n",
        "CREATE TABLE libros(\n",
        "  id INTEGER PRIMARY KEY,\n",
        "  titulo TEXT NOT NULL,\n",
        "  autor TEXT NOT NULL,\n",
        "  año INTEGER\n",
        ")\n",
        "''')"
      ],
      "metadata": {
        "colab": {
          "base_uri": "https://localhost:8080/"
        },
        "id": "zg6yf8pNAe_N",
        "outputId": "6cc9a445-50a2-4720-c93d-54138e3c1b1b"
      },
      "execution_count": 3,
      "outputs": [
        {
          "output_type": "execute_result",
          "data": {
            "text/plain": [
              "<sqlite3.Cursor at 0x7dcf3ebcccc0>"
            ]
          },
          "metadata": {},
          "execution_count": 3
        }
      ]
    },
    {
      "cell_type": "code",
      "source": [
        "libros_datos = [(\"Harry Potter\", \"J.K.R\", 1997), (\"The Hobbit\", \"Tolkien\", 1937), (\"Better than the movies\", \"Lynn Painter\", 2021), (\"La Sombra de Viento\", \"Carlos Ruiz Zafon\", 2001)]\n",
        "\n",
        "cursor.executemany(\"\"\"\n",
        "INSERT INTO libros (titulo, autor, año) VALUES (?, ?, ?)\"\"\", libros_datos)\n",
        "con.commit()"
      ],
      "metadata": {
        "id": "3G9QFdyNBKLA"
      },
      "execution_count": 4,
      "outputs": []
    },
    {
      "cell_type": "code",
      "source": [
        "cursor.execute(\"SELECT* FROM libros\")\n",
        "libros = cursor.fetchall()\n",
        "for libro in libros:\n",
        "  print(libros)"
      ],
      "metadata": {
        "colab": {
          "base_uri": "https://localhost:8080/"
        },
        "id": "aD5vYEqoGTHl",
        "outputId": "9e652703-b407-4120-8f16-2c1c6e1b334b"
      },
      "execution_count": 5,
      "outputs": [
        {
          "output_type": "stream",
          "name": "stdout",
          "text": [
            "[(1, 'Harry Potter', 'J.K.R', 1997), (2, 'The Hobbit', 'Tolkien', 1937), (3, 'Better than the movies', 'Lynn Painter', 2021), (4, 'La Sombra de Viento', 'Carlos Ruiz Zafon', 2001)]\n",
            "[(1, 'Harry Potter', 'J.K.R', 1997), (2, 'The Hobbit', 'Tolkien', 1937), (3, 'Better than the movies', 'Lynn Painter', 2021), (4, 'La Sombra de Viento', 'Carlos Ruiz Zafon', 2001)]\n",
            "[(1, 'Harry Potter', 'J.K.R', 1997), (2, 'The Hobbit', 'Tolkien', 1937), (3, 'Better than the movies', 'Lynn Painter', 2021), (4, 'La Sombra de Viento', 'Carlos Ruiz Zafon', 2001)]\n",
            "[(1, 'Harry Potter', 'J.K.R', 1997), (2, 'The Hobbit', 'Tolkien', 1937), (3, 'Better than the movies', 'Lynn Painter', 2021), (4, 'La Sombra de Viento', 'Carlos Ruiz Zafon', 2001)]\n"
          ]
        }
      ]
    }
  ]
}